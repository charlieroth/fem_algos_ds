{
 "cells": [
  {
   "cell_type": "code",
   "execution_count": 1,
   "metadata": {},
   "outputs": [],
   "source": [
    "import math"
   ]
  },
  {
   "attachments": {},
   "cell_type": "markdown",
   "metadata": {},
   "source": [
    "# Heap\n",
    "\n",
    "The *heap* data structure can be implemented with a *binary tree*. A *heap* can be used as a solution for a *priority queue*.\n",
    "\n",
    "A *heap* is a binary tree where every child and grand child is smaller (MaxHeap) or larger (MinHeap) than the current node.\n",
    "\n",
    "**NOTE**\n",
    "- Whenever a node is added, tree must be adjusted\n",
    "- Whenever a node is deleted, tree must be adjusted\n",
    "- No tree traversing"
   ]
  },
  {
   "cell_type": "code",
   "execution_count": null,
   "metadata": {},
   "outputs": [],
   "source": [
    "class MinHeap:\n",
    "    def __init__(self):\n",
    "        self.length = 0\n",
    "        self.data = []\n",
    "\n",
    "    def insert(self, value:int) -> None:\n",
    "        self.data[self.length] = value\n",
    "        self.heapify_up(self.length)\n",
    "        self.length += 1\n",
    "    \n",
    "    def delete(self) -> int:\n",
    "        if self.length == 0:\n",
    "            return -1\n",
    "        \n",
    "        out = self.data[0]\n",
    "        self.length -= 1\n",
    "        if self.length == 0:\n",
    "            self.data = []\n",
    "            return out\n",
    "        \n",
    "        self.length -= 1\n",
    "        self.data[0] = self.data[self.length - 1]\n",
    "        self.heapify_down(0)\n",
    "        \n",
    "    \n",
    "    def heapify_down(self, idx:int) -> None:\n",
    "        lidx = self.left_child(idx)\n",
    "        ridx = self.right_child(idx)\n",
    "\n",
    "        if idx >= self.length or lidx >= self.length:\n",
    "            return\n",
    "        \n",
    "        lv = self.data[lidx]\n",
    "        rv = self.data[ridx]\n",
    "        v = self.data[idx]\n",
    "\n",
    "        if lv > rv and v > rv:\n",
    "            self.data[idx] = rv\n",
    "            self.data[ridx] = v\n",
    "            self.heapify_down(ridx)\n",
    "        elif rv > lv and v > lv:\n",
    "            self.data[idx] = lv\n",
    "            self.data[lidx] = v\n",
    "            self.heapify_down(lidx)\n",
    "    \n",
    "    def heapify_up(self, idx:int) -> None:\n",
    "        if idx == 0:\n",
    "            return\n",
    "        \n",
    "        p = self.parent(idx)\n",
    "        pv = self.data[p]\n",
    "        v = self.data[idx]\n",
    "\n",
    "        if pv > v:\n",
    "            self.data[idx] = pv\n",
    "            self.data[p] = v\n",
    "            self.heapify_up(p)\n",
    "\n",
    "    def parent(self, idx:int) -> int:\n",
    "        return math.floor((idx - 1) / 2)\n",
    "    \n",
    "    def left_child(self, idx:int) -> int:\n",
    "        return idx * 2 + 1\n",
    "    \n",
    "    def right_child(self, idx:int) -> int:\n",
    "        return idx * 2 + 2"
   ]
  }
 ],
 "metadata": {
  "kernelspec": {
   "display_name": "base",
   "language": "python",
   "name": "python3"
  },
  "language_info": {
   "codemirror_mode": {
    "name": "ipython",
    "version": 3
   },
   "file_extension": ".py",
   "mimetype": "text/x-python",
   "name": "python",
   "nbconvert_exporter": "python",
   "pygments_lexer": "ipython3",
   "version": "3.10.6"
  },
  "orig_nbformat": 4
 },
 "nbformat": 4,
 "nbformat_minor": 2
}
