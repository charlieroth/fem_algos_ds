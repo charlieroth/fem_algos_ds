{
 "cells": [
  {
   "cell_type": "code",
   "execution_count": 36,
   "metadata": {},
   "outputs": [],
   "source": [
    "class DLLNode:\n",
    "    def __init__(self, data: int):\n",
    "        self.next = None\n",
    "        self.prev = None\n",
    "        self.data = data"
   ]
  },
  {
   "cell_type": "code",
   "execution_count": 52,
   "metadata": {},
   "outputs": [],
   "source": [
    "class DoublyLinkedList:\n",
    "    def __init__(self):\n",
    "        self.head = None\n",
    "        self.tail = None\n",
    "        self.length = 0\n",
    "\n",
    "    def __str__(self):\n",
    "        curr = self.head\n",
    "        str_rep = ''\n",
    "        \n",
    "        while curr != None:\n",
    "            str_rep += f'{curr.data}->'\n",
    "            curr = curr.next\n",
    "        \n",
    "        str_rep += 'None'\n",
    "        return str_rep\n",
    "\n",
    "    def prepend(self, node: DLLNode) -> None:\n",
    "        self.length += 1\n",
    "        \n",
    "        if self.head == None:\n",
    "            self.head = node\n",
    "            self.tail = node\n",
    "            return\n",
    "        \n",
    "        node.next = self.head\n",
    "        self.head.prev = node\n",
    "        self.head = node\n",
    "\n",
    "    def append(self, node: DLLNode) -> None:\n",
    "        self.length += 1\n",
    "        \n",
    "        if self.tail == None:\n",
    "            self.tail = node\n",
    "            self.head = node\n",
    "            return\n",
    "        \n",
    "        node.prev = self.tail\n",
    "        self.tail.next = node\n",
    "        self.tail = node\n",
    "\n",
    "    def insert_at(self, node: DLLNode, index: int) -> None:\n",
    "        if index > self.length:\n",
    "            raise Exception(\"Index out of bounds\")\n",
    "        \n",
    "        if index == self.length:\n",
    "            self.append(node)\n",
    "        elif index == 0:\n",
    "            self.prepend(node)\n",
    "        else:\n",
    "            self.length += 1\n",
    "            curr = self.head\n",
    "            i = 0\n",
    "            while i < index:\n",
    "                i += 1\n",
    "                curr = curr.next\n",
    "            \n",
    "            node.next = curr\n",
    "            node.prev = curr.prev\n",
    "            curr.prev.next = node\n",
    "            curr.prev = node\n",
    "\n",
    "    def remove_at(self, index: int) -> None:\n",
    "        if index > self.length or index < 0:\n",
    "            raise Exception(\"Index out of bounds\")\n",
    "        \n",
    "        self.length -= 1\n",
    "        if index == 0:\n",
    "            self.head = self.head.next\n",
    "            self.head.prev = None\n",
    "        elif index == self.length:\n",
    "            self.tail = self.tail.prev\n",
    "            self.tail.next = None\n",
    "        else:\n",
    "            curr = self.head\n",
    "            i = 0\n",
    "            while i < index:\n",
    "                i += 1\n",
    "                curr = curr.next\n",
    "            \n",
    "            curr.prev.next = curr.next\n",
    "            curr.next.prev = curr.prev\n",
    "\n",
    "    def remove(self, node: DLLNode) -> None:\n",
    "        if self.length == 0:\n",
    "            raise Exception(\"List is empty\")\n",
    "        \n",
    "        if node.data == self.head.data:\n",
    "            self.remove_at(0)\n",
    "        elif node.data == self.tail.data:\n",
    "            self.remove_at(self.length - 1)\n",
    "        else:\n",
    "            self.length -= 1\n",
    "            node.prev.next = node.next\n",
    "            node.next.prev = node.prev\n",
    "\n",
    "\n",
    "    "
   ]
  },
  {
   "attachments": {},
   "cell_type": "markdown",
   "metadata": {},
   "source": [
    "#### Prepend Node To List"
   ]
  },
  {
   "cell_type": "code",
   "execution_count": 53,
   "metadata": {},
   "outputs": [],
   "source": [
    "dll = DoublyLinkedList()\n",
    "dll.prepend(DLLNode(10))\n",
    "dll.prepend(DLLNode(11))\n",
    "assert(dll.__str__() == '11->10->None')"
   ]
  },
  {
   "attachments": {},
   "cell_type": "markdown",
   "metadata": {},
   "source": [
    "#### Append Node To List"
   ]
  },
  {
   "cell_type": "code",
   "execution_count": 54,
   "metadata": {},
   "outputs": [],
   "source": [
    "dll = DoublyLinkedList()\n",
    "dll.append(DLLNode(10))\n",
    "dll.append(DLLNode(11))\n",
    "assert(dll.__str__() == '10->11->None')"
   ]
  },
  {
   "attachments": {},
   "cell_type": "markdown",
   "metadata": {},
   "source": [
    "#### Remove Node At A Specific Index"
   ]
  },
  {
   "cell_type": "code",
   "execution_count": 55,
   "metadata": {},
   "outputs": [],
   "source": [
    "dll = DoublyLinkedList()\n",
    "\n",
    "dll.append(DLLNode(10))\n",
    "dll.append(DLLNode(11))\n",
    "dll.append(DLLNode(12))\n",
    "dll.append(DLLNode(13))\n",
    "assert(dll.__str__() == '10->11->12->13->None')\n",
    "\n",
    "dll.remove_at(1)\n",
    "assert(dll.__str__() == '10->12->13->None')"
   ]
  },
  {
   "attachments": {},
   "cell_type": "markdown",
   "metadata": {},
   "source": [
    "#### Remove Node"
   ]
  },
  {
   "cell_type": "code",
   "execution_count": 56,
   "metadata": {},
   "outputs": [],
   "source": [
    "dll = DoublyLinkedList()\n",
    "n1 = DLLNode(10)\n",
    "n2 = DLLNode(11)\n",
    "n3 = DLLNode(12)\n",
    "n4 = DLLNode(13)\n",
    "\n",
    "dll.append(n1)\n",
    "dll.append(n2)\n",
    "dll.append(n3)\n",
    "dll.append(n4)\n",
    "assert(dll.__str__() == '10->11->12->13->None')\n",
    "\n",
    "dll.remove(n2)\n",
    "assert(dll.__str__() == '10->12->13->None')"
   ]
  },
  {
   "attachments": {},
   "cell_type": "markdown",
   "metadata": {},
   "source": [
    "#### Insert Node At Specific Index"
   ]
  },
  {
   "cell_type": "code",
   "execution_count": 58,
   "metadata": {},
   "outputs": [],
   "source": [
    "dll = DoublyLinkedList()\n",
    "n1 = DLLNode(10)\n",
    "n2 = DLLNode(11)\n",
    "n3 = DLLNode(12)\n",
    "n4 = DLLNode(13)\n",
    "n5 = DLLNode(42)\n",
    "\n",
    "dll.append(n1)\n",
    "dll.append(n2)\n",
    "dll.append(n3)\n",
    "dll.append(n4)\n",
    "assert(dll.__str__() == '10->11->12->13->None')\n",
    "\n",
    "dll.insert_at(n5, 2)\n",
    "assert(dll.__str__() == '10->11->42->12->13->None')"
   ]
  }
 ],
 "metadata": {
  "kernelspec": {
   "display_name": "base",
   "language": "python",
   "name": "python3"
  },
  "language_info": {
   "codemirror_mode": {
    "name": "ipython",
    "version": 3
   },
   "file_extension": ".py",
   "mimetype": "text/x-python",
   "name": "python",
   "nbconvert_exporter": "python",
   "pygments_lexer": "ipython3",
   "version": "3.10.6"
  },
  "orig_nbformat": 4
 },
 "nbformat": 4,
 "nbformat_minor": 2
}
