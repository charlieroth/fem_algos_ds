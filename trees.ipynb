{
 "cells": [
  {
   "cell_type": "code",
   "execution_count": 161,
   "metadata": {},
   "outputs": [],
   "source": [
    "from enum import Enum\n",
    "from typing import List"
   ]
  },
  {
   "cell_type": "code",
   "execution_count": 162,
   "metadata": {},
   "outputs": [],
   "source": [
    "class TraversalOrder(Enum):\n",
    "    PREORDER = 1\n",
    "    INORDER = 2\n",
    "    POSTORDER = 3"
   ]
  },
  {
   "cell_type": "code",
   "execution_count": 163,
   "metadata": {},
   "outputs": [],
   "source": [
    "class Node:\n",
    "    def __init__(self, data:any, left=None, right=None):\n",
    "        self.data = data\n",
    "        self.left = left\n",
    "        self.right = right\n",
    "\n",
    "    def __str__(self):\n",
    "        return f'{self.data}'"
   ]
  },
  {
   "cell_type": "code",
   "execution_count": 164,
   "metadata": {},
   "outputs": [],
   "source": [
    "class BinaryTree:\n",
    "    def __init__(self, root:Node):\n",
    "        self.root = root"
   ]
  },
  {
   "attachments": {},
   "cell_type": "markdown",
   "metadata": {},
   "source": [
    "# Traversal"
   ]
  },
  {
   "cell_type": "code",
   "execution_count": 165,
   "metadata": {},
   "outputs": [],
   "source": [
    "def walk(curr:Node, path:List[any], order:TraversalOrder) -> None:\n",
    "    if curr == None:\n",
    "        return\n",
    "    \n",
    "    if order == TraversalOrder.PREORDER:\n",
    "        path.append(curr.data)\n",
    "        walk(curr.left, path, order)\n",
    "        walk(curr.right, path, order)\n",
    "    elif order == TraversalOrder.INORDER:\n",
    "        walk(curr.left, path, order)\n",
    "        path.append(curr.data)\n",
    "        walk(curr.right, path, order)\n",
    "    elif order == TraversalOrder.POSTORDER:\n",
    "        walk(curr.left, path, order)\n",
    "        walk(curr.right, path, order)\n",
    "        path.append(curr.data)\n",
    "    else:\n",
    "        raise Exception(\"Invalid traversal order provided\")\n",
    "    \n",
    "def traverse(tree:BinaryTree, order:TraversalOrder) -> List[any]:\n",
    "    path = []\n",
    "    walk(tree.root, path, order)\n",
    "    return path"
   ]
  },
  {
   "cell_type": "code",
   "execution_count": 166,
   "metadata": {},
   "outputs": [],
   "source": [
    "tree = BinaryTree(\n",
    "    root=Node(\n",
    "        data=7,\n",
    "        left=Node(\n",
    "            data=23,\n",
    "            left=Node(\n",
    "                data=5,\n",
    "                left=None,\n",
    "                right=None\n",
    "            ),\n",
    "            right=Node(\n",
    "                data=4,\n",
    "                left=None,\n",
    "                right=None\n",
    "            )\n",
    "        ),\n",
    "        right=Node(\n",
    "            data=3,\n",
    "            left=Node(\n",
    "                data=18,\n",
    "                left=None,\n",
    "                right=None\n",
    "            ),\n",
    "            right=Node(\n",
    "                data=21,\n",
    "                left=None,\n",
    "                right=None\n",
    "            )\n",
    "        )\n",
    "    )\n",
    ")"
   ]
  },
  {
   "attachments": {},
   "cell_type": "markdown",
   "metadata": {},
   "source": [
    "#### Pre-Order Traversal"
   ]
  },
  {
   "cell_type": "code",
   "execution_count": 167,
   "metadata": {},
   "outputs": [],
   "source": [
    "path = traverse(tree, TraversalOrder.PREORDER)\n",
    "assert(path == [7, 23, 5, 4, 3, 18, 21])"
   ]
  },
  {
   "attachments": {},
   "cell_type": "markdown",
   "metadata": {},
   "source": [
    "#### Post-Order Traversal"
   ]
  },
  {
   "cell_type": "code",
   "execution_count": 168,
   "metadata": {},
   "outputs": [],
   "source": [
    "path = traverse(tree, TraversalOrder.POSTORDER)\n",
    "assert(path == [5, 4, 23, 18, 21, 3, 7])"
   ]
  },
  {
   "attachments": {},
   "cell_type": "markdown",
   "metadata": {},
   "source": [
    "#### In-Order Traversal"
   ]
  },
  {
   "cell_type": "code",
   "execution_count": 169,
   "metadata": {},
   "outputs": [],
   "source": [
    "path = traverse(tree, TraversalOrder.INORDER)\n",
    "assert(path == [5, 23, 4, 7, 18, 3, 21])"
   ]
  },
  {
   "attachments": {},
   "cell_type": "markdown",
   "metadata": {},
   "source": [
    "# Search"
   ]
  },
  {
   "cell_type": "code",
   "execution_count": 170,
   "metadata": {},
   "outputs": [],
   "source": [
    "def search(curr:Node, needle:any) -> bool:\n",
    "    if curr != None:\n",
    "        if curr.data == needle:\n",
    "            return True\n",
    "        \n",
    "        if curr.data < needle:\n",
    "            return search(curr.right, needle)\n",
    "        \n",
    "        return search(curr.left, needle)\n",
    "    else:\n",
    "        return False\n",
    "\n",
    "def dfs(root: Node, needle: any) -> bool:\n",
    "    return search(root, needle)\n",
    "\n",
    "def bfs(tree:BinaryTree, needle:any) -> bool:\n",
    "    queue = []\n",
    "    queue.append(tree.root)\n",
    "    \n",
    "    while len(queue) > 0:\n",
    "        curr = queue.pop()\n",
    "        if curr != None:\n",
    "            if curr.data == needle:\n",
    "                return True\n",
    "            else:\n",
    "                queue.append(curr.left)\n",
    "                queue.append(curr.right)\n",
    "    \n",
    "    return False"
   ]
  },
  {
   "cell_type": "code",
   "execution_count": 171,
   "metadata": {},
   "outputs": [],
   "source": [
    "tree = BinaryTree(\n",
    "    root=Node(\n",
    "        data=10,\n",
    "        left=Node(\n",
    "            data=5,\n",
    "            left=Node(\n",
    "                data=4\n",
    "            ),\n",
    "            right=None\n",
    "        ),\n",
    "        right=Node(\n",
    "            data=15,\n",
    "            left=None,\n",
    "            right=None\n",
    "        )\n",
    "    )\n",
    ")"
   ]
  },
  {
   "attachments": {},
   "cell_type": "markdown",
   "metadata": {},
   "source": [
    "#### Breadth-First Search"
   ]
  },
  {
   "cell_type": "code",
   "execution_count": 172,
   "metadata": {},
   "outputs": [],
   "source": [
    "needle = 42\n",
    "found = bfs(tree, needle)\n",
    "assert(found == False)"
   ]
  },
  {
   "cell_type": "code",
   "execution_count": 173,
   "metadata": {},
   "outputs": [],
   "source": [
    "needle = 4\n",
    "found = bfs(tree, needle)\n",
    "assert(found == True)"
   ]
  },
  {
   "attachments": {},
   "cell_type": "markdown",
   "metadata": {},
   "source": [
    "#### Depth-First Search"
   ]
  },
  {
   "cell_type": "code",
   "execution_count": 174,
   "metadata": {},
   "outputs": [],
   "source": [
    "needle = 4\n",
    "found = dfs(tree.root, needle)\n",
    "assert(found == True)"
   ]
  },
  {
   "attachments": {},
   "cell_type": "markdown",
   "metadata": {},
   "source": [
    "# Comparison"
   ]
  },
  {
   "cell_type": "code",
   "execution_count": 175,
   "metadata": {},
   "outputs": [],
   "source": [
    "def compare(a:Node, b:Node) -> bool:\n",
    "    if a == None and b == None:\n",
    "        return True\n",
    "    elif a == None or b == None:\n",
    "        return False\n",
    "    elif a.data != b.data:\n",
    "        return False\n",
    "    else:\n",
    "        return compare(a.left, b.left) and compare(a.right, b.right)"
   ]
  },
  {
   "cell_type": "code",
   "execution_count": 176,
   "metadata": {},
   "outputs": [],
   "source": [
    "tree_a = BinaryTree(\n",
    "    root=Node(\n",
    "        data=10,\n",
    "        left=Node(\n",
    "            data=5,\n",
    "            left=Node(\n",
    "                data=4\n",
    "            ),\n",
    "            right=None\n",
    "        ),\n",
    "        right=Node(\n",
    "            data=15,\n",
    "            left=None,\n",
    "            right=None\n",
    "        )\n",
    "    )\n",
    ")\n",
    "\n",
    "tree_b = BinaryTree(\n",
    "    root=Node(\n",
    "        data=10,\n",
    "        left=Node(\n",
    "            data=5,\n",
    "            left=Node(\n",
    "                data=4\n",
    "            ),\n",
    "            right=None\n",
    "        ),\n",
    "        right=Node(\n",
    "            data=15,\n",
    "            left=None,\n",
    "            right=None\n",
    "        )\n",
    "    )\n",
    ")\n",
    "\n",
    "tree_c = BinaryTree(\n",
    "    root=Node(\n",
    "        data=10,\n",
    "        left=Node(\n",
    "            data=5,\n",
    "            left=Node(\n",
    "                data=3\n",
    "            ),\n",
    "            right=None\n",
    "        ),\n",
    "        right=Node(\n",
    "            data=15,\n",
    "            left=None,\n",
    "            right=None\n",
    "        )\n",
    "    )\n",
    ")\n",
    "\n",
    "trees_are_same = compare(tree_a.root, tree_b.root)\n",
    "assert(trees_are_same == True)\n",
    "\n",
    "trees_are_same = compare(tree_a.root, tree_c.root)\n",
    "assert(trees_are_same == False)"
   ]
  },
  {
   "attachments": {},
   "cell_type": "markdown",
   "metadata": {},
   "source": [
    "# Insertion"
   ]
  },
  {
   "cell_type": "code",
   "execution_count": 160,
   "metadata": {},
   "outputs": [],
   "source": [
    "def insert(parent:Node, curr:Node, node:Node) -> None:\n",
    "    if curr != None:\n",
    "        if curr.data < node.data:\n",
    "            return insert(curr, curr.right, node)\n",
    "        else:\n",
    "            return insert(curr, curr.left, node)\n",
    "        \n",
    "    if parent != None:\n",
    "        if parent.data < node.data:\n",
    "            parent.right = node\n",
    "            return\n",
    "        else:\n",
    "            parent.left = node\n",
    "            return"
   ]
  },
  {
   "cell_type": "code",
   "execution_count": 180,
   "metadata": {},
   "outputs": [],
   "source": [
    "tree = BinaryTree(root=Node(10))\n",
    "\n",
    "insert(None, tree.root, Node(5))\n",
    "insert(None, tree.root, Node(15))\n",
    "insert(None, tree.root, Node(4))\n",
    "\n",
    "assert(dfs(tree.root, 5) == True)\n",
    "assert(dfs(tree.root, 15) == True)\n",
    "assert(dfs(tree.root, 4) == True)\n",
    "assert(traverse(tree, TraversalOrder.INORDER) == [4, 5, 10, 15])\n"
   ]
  },
  {
   "cell_type": "code",
   "execution_count": null,
   "metadata": {},
   "outputs": [],
   "source": []
  }
 ],
 "metadata": {
  "kernelspec": {
   "display_name": "base",
   "language": "python",
   "name": "python3"
  },
  "language_info": {
   "codemirror_mode": {
    "name": "ipython",
    "version": 3
   },
   "file_extension": ".py",
   "mimetype": "text/x-python",
   "name": "python",
   "nbconvert_exporter": "python",
   "pygments_lexer": "ipython3",
   "version": "3.10.6"
  },
  "orig_nbformat": 4
 },
 "nbformat": 4,
 "nbformat_minor": 2
}
